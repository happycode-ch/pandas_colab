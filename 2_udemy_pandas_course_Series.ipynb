{
  "nbformat": 4,
  "nbformat_minor": 0,
  "metadata": {
    "colab": {
      "provenance": [],
      "authorship_tag": "ABX9TyPyeZY3tIoczXrQd6/AQRdm",
      "include_colab_link": true
    },
    "kernelspec": {
      "name": "python3",
      "display_name": "Python 3"
    },
    "language_info": {
      "name": "python"
    }
  },
  "cells": [
    {
      "cell_type": "markdown",
      "metadata": {
        "id": "view-in-github",
        "colab_type": "text"
      },
      "source": [
        "<a href=\"https://colab.research.google.com/github/happycode-ch/pandas_colab/blob/main/2_udemy_pandas_course_Series.ipynb\" target=\"_parent\"><img src=\"https://colab.research.google.com/assets/colab-badge.svg\" alt=\"Open In Colab\"/></a>"
      ]
    },
    {
      "cell_type": "code",
      "execution_count": 1,
      "metadata": {
        "id": "QGnugwg7JWyQ"
      },
      "outputs": [],
      "source": [
        "import pandas as pd"
      ]
    },
    {
      "cell_type": "markdown",
      "source": [
        "### Lecture 1: What is a Series? (A sequence of values with associated labels)"
      ],
      "metadata": {
        "id": "jOMfKweuJ6JZ"
      }
    },
    {
      "cell_type": "code",
      "source": [
        "students = ['Andrew', 'Kate', 'Diebold']"
      ],
      "metadata": {
        "id": "WCU02DvpKDQq"
      },
      "execution_count": 2,
      "outputs": []
    },
    {
      "cell_type": "code",
      "source": [
        "type(students)"
      ],
      "metadata": {
        "colab": {
          "base_uri": "https://localhost:8080/"
        },
        "id": "GplLQzzSKQ2N",
        "outputId": "5bc8f81e-55bf-4f88-9748-17cb959875d5"
      },
      "execution_count": 3,
      "outputs": [
        {
          "output_type": "execute_result",
          "data": {
            "text/plain": [
              "list"
            ]
          },
          "metadata": {},
          "execution_count": 3
        }
      ]
    },
    {
      "cell_type": "code",
      "source": [
        "pd.Series(students)"
      ],
      "metadata": {
        "colab": {
          "base_uri": "https://localhost:8080/"
        },
        "id": "nejAxwgRKTjb",
        "outputId": "fe087511-a753-4f13-bbab-7366a53ad427"
      },
      "execution_count": 4,
      "outputs": [
        {
          "output_type": "execute_result",
          "data": {
            "text/plain": [
              "0     Andrew\n",
              "1       Kate\n",
              "2    Diebold\n",
              "dtype: object"
            ]
          },
          "metadata": {},
          "execution_count": 4
        }
      ]
    },
    {
      "cell_type": "code",
      "source": [
        "ages = [23, 45, 19]"
      ],
      "metadata": {
        "id": "ETa7tKesKWLL"
      },
      "execution_count": 5,
      "outputs": []
    },
    {
      "cell_type": "code",
      "source": [
        "pd.Series(ages)"
      ],
      "metadata": {
        "colab": {
          "base_uri": "https://localhost:8080/"
        },
        "id": "yh9gFAVPKgb6",
        "outputId": "210ae61f-4ed1-4933-b20c-069e11a17597"
      },
      "execution_count": 6,
      "outputs": [
        {
          "output_type": "execute_result",
          "data": {
            "text/plain": [
              "0    23\n",
              "1    45\n",
              "2    19\n",
              "dtype: int64"
            ]
          },
          "metadata": {},
          "execution_count": 6
        }
      ]
    },
    {
      "cell_type": "code",
      "source": [
        "heights = [167.4, 173.2, 130.4]"
      ],
      "metadata": {
        "id": "Kng2ZnN9KktJ"
      },
      "execution_count": 7,
      "outputs": []
    },
    {
      "cell_type": "code",
      "source": [
        "pd.Series(heights)"
      ],
      "metadata": {
        "colab": {
          "base_uri": "https://localhost:8080/"
        },
        "id": "quD3jbzVKqzQ",
        "outputId": "d24798a3-1ecd-4cc6-a352-986fb58bd08e"
      },
      "execution_count": 8,
      "outputs": [
        {
          "output_type": "execute_result",
          "data": {
            "text/plain": [
              "0    167.4\n",
              "1    173.2\n",
              "2    130.4\n",
              "dtype: float64"
            ]
          },
          "metadata": {},
          "execution_count": 8
        }
      ]
    },
    {
      "cell_type": "code",
      "source": [
        "# Pandas identifies the dtype"
      ],
      "metadata": {
        "id": "t5KY7dhvKtVL"
      },
      "execution_count": 9,
      "outputs": []
    },
    {
      "cell_type": "code",
      "source": [
        "mixed = [True, 'say', {'my_brain': 95}]"
      ],
      "metadata": {
        "id": "Aug7QZq6K8DW"
      },
      "execution_count": 10,
      "outputs": []
    },
    {
      "cell_type": "code",
      "source": [
        "pd.Series(mixed)"
      ],
      "metadata": {
        "colab": {
          "base_uri": "https://localhost:8080/"
        },
        "id": "EuJ6B8HvLIb7",
        "outputId": "64b85292-bf43-4a2e-ac1a-072c9de072a7"
      },
      "execution_count": 11,
      "outputs": [
        {
          "output_type": "execute_result",
          "data": {
            "text/plain": [
              "0                True\n",
              "1                 say\n",
              "2    {'my_brain': 95}\n",
              "dtype: object"
            ]
          },
          "metadata": {},
          "execution_count": 11
        }
      ]
    },
    {
      "cell_type": "code",
      "source": [
        "students"
      ],
      "metadata": {
        "colab": {
          "base_uri": "https://localhost:8080/"
        },
        "id": "omBYOGGeLMbp",
        "outputId": "f74b95b2-baca-4951-d8f8-c33ffe96e316"
      },
      "execution_count": 12,
      "outputs": [
        {
          "output_type": "execute_result",
          "data": {
            "text/plain": [
              "['Andrew', 'Kate', 'Diebold']"
            ]
          },
          "metadata": {},
          "execution_count": 12
        }
      ]
    },
    {
      "cell_type": "code",
      "source": [
        "pd.Series(students)"
      ],
      "metadata": {
        "colab": {
          "base_uri": "https://localhost:8080/"
        },
        "id": "ONNjkpUnLuNg",
        "outputId": "24a29e3a-48c5-4973-c487-0d87aa19b263"
      },
      "execution_count": 13,
      "outputs": [
        {
          "output_type": "execute_result",
          "data": {
            "text/plain": [
              "0     Andrew\n",
              "1       Kate\n",
              "2    Diebold\n",
              "dtype: object"
            ]
          },
          "metadata": {},
          "execution_count": 13
        }
      ]
    },
    {
      "cell_type": "markdown",
      "source": [
        "Parameters vs. Arguements"
      ],
      "metadata": {
        "id": "LIc_y4MLL88N"
      }
    },
    {
      "cell_type": "code",
      "source": [
        "pd.Series(data=students) # (parameter=arguements) arguements are actual data/ values associate with the parameter(data)"
      ],
      "metadata": {
        "colab": {
          "base_uri": "https://localhost:8080/"
        },
        "id": "FLV_rntvMAQv",
        "outputId": "ada62c29-2b7c-4602-b9ab-c6cb50591740"
      },
      "execution_count": 14,
      "outputs": [
        {
          "output_type": "execute_result",
          "data": {
            "text/plain": [
              "0     Andrew\n",
              "1       Kate\n",
              "2    Diebold\n",
              "dtype: object"
            ]
          },
          "metadata": {},
          "execution_count": 14
        }
      ]
    },
    {
      "cell_type": "code",
      "source": [
        "def greeting(something):\n",
        "  print(something)"
      ],
      "metadata": {
        "id": "pXjv5Bp6MPY6"
      },
      "execution_count": 15,
      "outputs": []
    },
    {
      "cell_type": "code",
      "source": [
        "greeting('Good Morning')"
      ],
      "metadata": {
        "colab": {
          "base_uri": "https://localhost:8080/"
        },
        "id": "FFttZd8HMnIf",
        "outputId": "791c8b8d-34ba-4c61-9912-5c377b9fcbd2"
      },
      "execution_count": 16,
      "outputs": [
        {
          "output_type": "stream",
          "name": "stdout",
          "text": [
            "Good Morning\n"
          ]
        }
      ]
    },
    {
      "cell_type": "markdown",
      "source": [
        "What is the Data?"
      ],
      "metadata": {
        "id": "UYEPM1blMyBZ"
      }
    },
    {
      "cell_type": "code",
      "source": [
        "books_list = ['The Escape Artist', 'The Spy and the Traitor', 'The Sceptic\\'s Guide to the Universe']"
      ],
      "metadata": {
        "id": "yOZKs8qUMqBb"
      },
      "execution_count": 17,
      "outputs": []
    },
    {
      "cell_type": "code",
      "source": [
        "books_list"
      ],
      "metadata": {
        "colab": {
          "base_uri": "https://localhost:8080/"
        },
        "id": "Vba-ngY3NUTp",
        "outputId": "b4fa2c77-16e8-4e3a-d84b-31609a53b4fb"
      },
      "execution_count": 18,
      "outputs": [
        {
          "output_type": "execute_result",
          "data": {
            "text/plain": [
              "['The Escape Artist',\n",
              " 'The Spy and the Traitor',\n",
              " \"The Sceptic's Guide to the Universe\"]"
            ]
          },
          "metadata": {},
          "execution_count": 18
        }
      ]
    },
    {
      "cell_type": "code",
      "source": [
        "pd.Series(books_list)"
      ],
      "metadata": {
        "colab": {
          "base_uri": "https://localhost:8080/"
        },
        "id": "Zb1rdL6dNVlI",
        "outputId": "965c26fc-119c-40bf-bf0d-bb77049c6aae"
      },
      "execution_count": 19,
      "outputs": [
        {
          "output_type": "execute_result",
          "data": {
            "text/plain": [
              "0                      The Escape Artist\n",
              "1                The Spy and the Traitor\n",
              "2    The Sceptic's Guide to the Universe\n",
              "dtype: object"
            ]
          },
          "metadata": {},
          "execution_count": 19
        }
      ]
    },
    {
      "cell_type": "code",
      "source": [
        "list_s = pd.Series(books_list)"
      ],
      "metadata": {
        "id": "QzIqV3OsOUkc"
      },
      "execution_count": 20,
      "outputs": []
    },
    {
      "cell_type": "code",
      "source": [
        "# python list is an ordered data structure"
      ],
      "metadata": {
        "id": "WcJ_IkNwNaGh"
      },
      "execution_count": 21,
      "outputs": []
    },
    {
      "cell_type": "code",
      "source": [
        "books_dict = {0:'The Escape Artist', 1:'The Spy and the Traitor', 2:'The Sceptic\\'s Guide to the Universe'}"
      ],
      "metadata": {
        "id": "ZiUqJDyBNsBi"
      },
      "execution_count": 22,
      "outputs": []
    },
    {
      "cell_type": "code",
      "source": [
        "dict_s = pd.Series(books_dict)"
      ],
      "metadata": {
        "id": "DlEebYlpNy-b"
      },
      "execution_count": 23,
      "outputs": []
    },
    {
      "cell_type": "code",
      "source": [
        "list_s.equals(dict_s)"
      ],
      "metadata": {
        "colab": {
          "base_uri": "https://localhost:8080/"
        },
        "id": "QoeKkUdcN236",
        "outputId": "14e2ac83-8710-4893-f6c7-6742126f0e6d"
      },
      "execution_count": 24,
      "outputs": [
        {
          "output_type": "execute_result",
          "data": {
            "text/plain": [
              "True"
            ]
          },
          "metadata": {},
          "execution_count": 24
        }
      ]
    },
    {
      "cell_type": "code",
      "source": [
        "pd.Series(714)"
      ],
      "metadata": {
        "colab": {
          "base_uri": "https://localhost:8080/"
        },
        "id": "0PWbMKCEOj1v",
        "outputId": "883ece5b-9dc3-476a-94b6-8c32b41f1fb0"
      },
      "execution_count": 25,
      "outputs": [
        {
          "output_type": "execute_result",
          "data": {
            "text/plain": [
              "0    714\n",
              "dtype: int64"
            ]
          },
          "metadata": {},
          "execution_count": 25
        }
      ]
    },
    {
      "cell_type": "code",
      "source": [
        "pd.Series('Andy')"
      ],
      "metadata": {
        "colab": {
          "base_uri": "https://localhost:8080/"
        },
        "id": "eh-TFKjCOz_V",
        "outputId": "75554055-fa40-4144-c236-3cd230f4ebfc"
      },
      "execution_count": 26,
      "outputs": [
        {
          "output_type": "execute_result",
          "data": {
            "text/plain": [
              "0    Andy\n",
              "dtype: object"
            ]
          },
          "metadata": {},
          "execution_count": 26
        }
      ]
    },
    {
      "cell_type": "markdown",
      "source": [
        "### The dtype Attribute"
      ],
      "metadata": {
        "id": "ounF2bs_PTKa"
      }
    },
    {
      "cell_type": "code",
      "source": [
        "pd.Series(ages)"
      ],
      "metadata": {
        "colab": {
          "base_uri": "https://localhost:8080/"
        },
        "id": "yu5MHr1oPFEZ",
        "outputId": "a1399ed5-c5e4-4e93-88ab-425e1c97fac5"
      },
      "execution_count": 27,
      "outputs": [
        {
          "output_type": "execute_result",
          "data": {
            "text/plain": [
              "0    23\n",
              "1    45\n",
              "2    19\n",
              "dtype: int64"
            ]
          },
          "metadata": {},
          "execution_count": 27
        }
      ]
    },
    {
      "cell_type": "code",
      "source": [
        "pd.Series(ages, dtype='float')"
      ],
      "metadata": {
        "colab": {
          "base_uri": "https://localhost:8080/"
        },
        "id": "aQIqiEGxPgKh",
        "outputId": "02f8da23-0b9e-48b9-e324-a614b9c38f30"
      },
      "execution_count": 28,
      "outputs": [
        {
          "output_type": "execute_result",
          "data": {
            "text/plain": [
              "0    23.0\n",
              "1    45.0\n",
              "2    19.0\n",
              "dtype: float64"
            ]
          },
          "metadata": {},
          "execution_count": 28
        }
      ]
    },
    {
      "cell_type": "code",
      "source": [
        " # most cases, this is not necessary (dtype=)"
      ],
      "metadata": {
        "id": "iiPLmD_oPlG8"
      },
      "execution_count": 29,
      "outputs": []
    },
    {
      "cell_type": "code",
      "source": [
        "name_series = pd.Series(students)"
      ],
      "metadata": {
        "id": "kj6RQOeQPyY8"
      },
      "execution_count": 30,
      "outputs": []
    },
    {
      "cell_type": "code",
      "source": [
        "name_series.dtype"
      ],
      "metadata": {
        "colab": {
          "base_uri": "https://localhost:8080/"
        },
        "id": "nydXFyevQBeN",
        "outputId": "8cf5cc18-d55f-48c2-a334-5fbee8123564"
      },
      "execution_count": 31,
      "outputs": [
        {
          "output_type": "execute_result",
          "data": {
            "text/plain": [
              "dtype('O')"
            ]
          },
          "metadata": {},
          "execution_count": 31
        }
      ]
    },
    {
      "cell_type": "code",
      "source": [
        "# dtype attribute for Series that contains a string will always be OBJECT"
      ],
      "metadata": {
        "id": "RqoWB_VzQF16"
      },
      "execution_count": 32,
      "outputs": []
    },
    {
      "cell_type": "markdown",
      "source": [
        "#### What is the dtype Really?"
      ],
      "metadata": {
        "id": "9OjrqXwqSQI8"
      }
    },
    {
      "cell_type": "code",
      "source": [
        "heights"
      ],
      "metadata": {
        "colab": {
          "base_uri": "https://localhost:8080/"
        },
        "id": "J5uKpoD-QTWi",
        "outputId": "1fb90b1f-6701-4ed8-cbd5-3f5383857469"
      },
      "execution_count": 33,
      "outputs": [
        {
          "output_type": "execute_result",
          "data": {
            "text/plain": [
              "[167.4, 173.2, 130.4]"
            ]
          },
          "metadata": {},
          "execution_count": 33
        }
      ]
    },
    {
      "cell_type": "code",
      "source": [
        "pd.Series(heights)"
      ],
      "metadata": {
        "colab": {
          "base_uri": "https://localhost:8080/"
        },
        "id": "PWct7uG7S0jv",
        "outputId": "fbd01089-5c30-4871-8abc-5ff33314cf64"
      },
      "execution_count": 34,
      "outputs": [
        {
          "output_type": "execute_result",
          "data": {
            "text/plain": [
              "0    167.4\n",
              "1    173.2\n",
              "2    130.4\n",
              "dtype: float64"
            ]
          },
          "metadata": {},
          "execution_count": 34
        }
      ]
    },
    {
      "cell_type": "code",
      "source": [
        "heights2 = [167.4, '173.2', 130.4]"
      ],
      "metadata": {
        "id": "-b3BUkqSS3kN"
      },
      "execution_count": 35,
      "outputs": []
    },
    {
      "cell_type": "code",
      "source": [
        "pd.Series(heights2) # contains string, now OBJECT"
      ],
      "metadata": {
        "colab": {
          "base_uri": "https://localhost:8080/"
        },
        "id": "NIsqN_E4TBwa",
        "outputId": "1efed350-0e3f-44ec-e844-1394442ccfa4"
      },
      "execution_count": 36,
      "outputs": [
        {
          "output_type": "execute_result",
          "data": {
            "text/plain": [
              "0    167.4\n",
              "1    173.2\n",
              "2    130.4\n",
              "dtype: object"
            ]
          },
          "metadata": {},
          "execution_count": 36
        }
      ]
    },
    {
      "cell_type": "markdown",
      "source": [
        "#### Index and RangeIndex"
      ],
      "metadata": {
        "id": "8GKMH28ZTbeU"
      }
    },
    {
      "cell_type": "code",
      "source": [
        "books_list"
      ],
      "metadata": {
        "colab": {
          "base_uri": "https://localhost:8080/"
        },
        "id": "rW2S7PrlTERX",
        "outputId": "f3fab28f-1f75-410a-9ab8-8339c9d0f713"
      },
      "execution_count": 37,
      "outputs": [
        {
          "output_type": "execute_result",
          "data": {
            "text/plain": [
              "['The Escape Artist',\n",
              " 'The Spy and the Traitor',\n",
              " \"The Sceptic's Guide to the Universe\"]"
            ]
          },
          "metadata": {},
          "execution_count": 37
        }
      ]
    },
    {
      "cell_type": "code",
      "source": [
        "list_s"
      ],
      "metadata": {
        "colab": {
          "base_uri": "https://localhost:8080/"
        },
        "id": "Edr3McqETi8_",
        "outputId": "8dbacbb0-78fd-4e43-cb7e-596d1baab1fd"
      },
      "execution_count": 38,
      "outputs": [
        {
          "output_type": "execute_result",
          "data": {
            "text/plain": [
              "0                      The Escape Artist\n",
              "1                The Spy and the Traitor\n",
              "2    The Sceptic's Guide to the Universe\n",
              "dtype: object"
            ]
          },
          "metadata": {},
          "execution_count": 38
        }
      ]
    },
    {
      "cell_type": "code",
      "source": [
        "pd.Series(data=books_list, index=['Harrowing', 'Thrilling', 'Interesting and Academic'])"
      ],
      "metadata": {
        "colab": {
          "base_uri": "https://localhost:8080/"
        },
        "id": "mc5u4V92TvwI",
        "outputId": "6f9206c8-9404-40da-d7be-bc427fecbf27"
      },
      "execution_count": 39,
      "outputs": [
        {
          "output_type": "execute_result",
          "data": {
            "text/plain": [
              "Harrowing                                     The Escape Artist\n",
              "Thrilling                               The Spy and the Traitor\n",
              "Interesting and Academic    The Sceptic's Guide to the Universe\n",
              "dtype: object"
            ]
          },
          "metadata": {},
          "execution_count": 39
        }
      ]
    },
    {
      "cell_type": "code",
      "source": [
        "pd.Series(books_list, ['Harrowing', 'Thrilling', 'Interesting and Academic']) # Python will assume the arguements"
      ],
      "metadata": {
        "colab": {
          "base_uri": "https://localhost:8080/"
        },
        "id": "J3GXqlPxUBIV",
        "outputId": "a605c4c9-abf0-43e0-decd-9899e64663d4"
      },
      "execution_count": 40,
      "outputs": [
        {
          "output_type": "execute_result",
          "data": {
            "text/plain": [
              "Harrowing                                     The Escape Artist\n",
              "Thrilling                               The Spy and the Traitor\n",
              "Interesting and Academic    The Sceptic's Guide to the Universe\n",
              "dtype: object"
            ]
          },
          "metadata": {},
          "execution_count": 40
        }
      ]
    },
    {
      "cell_type": "code",
      "source": [
        "#stringdtype() beginning in 1.0.0"
      ],
      "metadata": {
        "id": "x-AFzs6EULs4"
      },
      "execution_count": 41,
      "outputs": []
    },
    {
      "cell_type": "code",
      "source": [
        "pd.Series(books_list, ['Harrowing', 'Thrilling', 'Interesting and Academic'], dtype='string')"
      ],
      "metadata": {
        "colab": {
          "base_uri": "https://localhost:8080/"
        },
        "id": "DVN5XZbpUmaK",
        "outputId": "0549f4b5-b8a5-4084-8109-26e6d6618c68"
      },
      "execution_count": 42,
      "outputs": [
        {
          "output_type": "execute_result",
          "data": {
            "text/plain": [
              "Harrowing                                     The Escape Artist\n",
              "Thrilling                               The Spy and the Traitor\n",
              "Interesting and Academic    The Sceptic's Guide to the Universe\n",
              "dtype: string"
            ]
          },
          "metadata": {},
          "execution_count": 42
        }
      ]
    },
    {
      "cell_type": "code",
      "source": [
        "list_s.index"
      ],
      "metadata": {
        "colab": {
          "base_uri": "https://localhost:8080/"
        },
        "id": "B6f33V-bUp_0",
        "outputId": "f3cef922-bee4-4bda-e6bd-f42c1e218461"
      },
      "execution_count": 43,
      "outputs": [
        {
          "output_type": "execute_result",
          "data": {
            "text/plain": [
              "RangeIndex(start=0, stop=3, step=1)"
            ]
          },
          "metadata": {},
          "execution_count": 43
        }
      ]
    },
    {
      "cell_type": "code",
      "source": [
        "type(list_s.index)"
      ],
      "metadata": {
        "colab": {
          "base_uri": "https://localhost:8080/"
        },
        "id": "qXba0DLBUvZg",
        "outputId": "0947da92-3c03-401d-db59-c57ac361cdf9"
      },
      "execution_count": 44,
      "outputs": [
        {
          "output_type": "execute_result",
          "data": {
            "text/plain": [
              "pandas.core.indexes.range.RangeIndex"
            ]
          },
          "metadata": {},
          "execution_count": 44
        }
      ]
    },
    {
      "cell_type": "code",
      "source": [
        "pd.RangeIndex(start=4, stop=7, step=1)"
      ],
      "metadata": {
        "colab": {
          "base_uri": "https://localhost:8080/"
        },
        "id": "SRYfv7MGUzIw",
        "outputId": "6e901dd3-f3a6-477e-e669-987713ec4841"
      },
      "execution_count": 45,
      "outputs": [
        {
          "output_type": "execute_result",
          "data": {
            "text/plain": [
              "RangeIndex(start=4, stop=7, step=1)"
            ]
          },
          "metadata": {},
          "execution_count": 45
        }
      ]
    },
    {
      "cell_type": "code",
      "source": [
        "list(pd.RangeIndex(start=4, stop=7, step=1))"
      ],
      "metadata": {
        "colab": {
          "base_uri": "https://localhost:8080/"
        },
        "id": "4pUQjdesU-_6",
        "outputId": "2141f306-c6ea-453d-d73d-384acb696505"
      },
      "execution_count": 46,
      "outputs": [
        {
          "output_type": "execute_result",
          "data": {
            "text/plain": [
              "[4, 5, 6]"
            ]
          },
          "metadata": {},
          "execution_count": 46
        }
      ]
    },
    {
      "cell_type": "code",
      "source": [
        "list(pd.RangeIndex(start=10, stop=-11, step=-1))"
      ],
      "metadata": {
        "colab": {
          "base_uri": "https://localhost:8080/"
        },
        "id": "hbkO4PvnVCkB",
        "outputId": "39fc9981-a1a1-43b1-e455-e61291f32a86"
      },
      "execution_count": 47,
      "outputs": [
        {
          "output_type": "execute_result",
          "data": {
            "text/plain": [
              "[10, 9, 8, 7, 6, 5, 4, 3, 2, 1, 0, -1, -2, -3, -4, -5, -6, -7, -8, -9, -10]"
            ]
          },
          "metadata": {},
          "execution_count": 47
        }
      ]
    },
    {
      "cell_type": "code",
      "source": [
        "# RangeIndex = immutable object"
      ],
      "metadata": {
        "id": "Ciduk_-wVOF0"
      },
      "execution_count": 48,
      "outputs": []
    },
    {
      "cell_type": "markdown",
      "source": [
        "#### Series and Index Names"
      ],
      "metadata": {
        "id": "ShGyhSKOV6rM"
      }
    },
    {
      "cell_type": "code",
      "source": [
        "books_series = list_s"
      ],
      "metadata": {
        "id": "K_fdVUymVcOq"
      },
      "execution_count": 49,
      "outputs": []
    },
    {
      "cell_type": "code",
      "source": [
        "# intelligable: capable of being understood"
      ],
      "metadata": {
        "id": "IeCIyBQbWCh-"
      },
      "execution_count": 50,
      "outputs": []
    },
    {
      "cell_type": "code",
      "source": [
        "books_series"
      ],
      "metadata": {
        "colab": {
          "base_uri": "https://localhost:8080/"
        },
        "id": "-4UafZOUWVpg",
        "outputId": "61f0aecd-6c71-4391-8ed6-9d0de716fe2d"
      },
      "execution_count": 51,
      "outputs": [
        {
          "output_type": "execute_result",
          "data": {
            "text/plain": [
              "0                      The Escape Artist\n",
              "1                The Spy and the Traitor\n",
              "2    The Sceptic's Guide to the Universe\n",
              "dtype: object"
            ]
          },
          "metadata": {},
          "execution_count": 51
        }
      ]
    },
    {
      "cell_type": "code",
      "source": [
        "# attribute vs method"
      ],
      "metadata": {
        "id": "jaucQvEbWXfu"
      },
      "execution_count": 52,
      "outputs": []
    },
    {
      "cell_type": "markdown",
      "source": [
        "**Method:** a function bound to the object.\n",
        "\n",
        "**Attribute:** a variable bound to the object."
      ],
      "metadata": {
        "id": "PNxsIlF6Wpzc"
      }
    },
    {
      "cell_type": "code",
      "source": [
        "books_series.size"
      ],
      "metadata": {
        "colab": {
          "base_uri": "https://localhost:8080/"
        },
        "id": "IXjOaJsgWnGb",
        "outputId": "cc62d52a-fde0-4e46-fa84-7fd259561d38"
      },
      "execution_count": 53,
      "outputs": [
        {
          "output_type": "execute_result",
          "data": {
            "text/plain": [
              "3"
            ]
          },
          "metadata": {},
          "execution_count": 53
        }
      ]
    },
    {
      "cell_type": "code",
      "source": [
        "list_s.equals(dict_s) # method"
      ],
      "metadata": {
        "colab": {
          "base_uri": "https://localhost:8080/"
        },
        "id": "2ynr9ng8W-gI",
        "outputId": "3af2af77-baaf-4627-d55b-e7f31808df6b"
      },
      "execution_count": 54,
      "outputs": [
        {
          "output_type": "execute_result",
          "data": {
            "text/plain": [
              "True"
            ]
          },
          "metadata": {},
          "execution_count": 54
        }
      ]
    },
    {
      "cell_type": "code",
      "source": [
        "list_s.dtype # attribute"
      ],
      "metadata": {
        "colab": {
          "base_uri": "https://localhost:8080/"
        },
        "id": "bIC1OFgnXDn1",
        "outputId": "b0f277ed-1c83-456c-a82d-db84d2943c4d"
      },
      "execution_count": 55,
      "outputs": [
        {
          "output_type": "execute_result",
          "data": {
            "text/plain": [
              "dtype('O')"
            ]
          },
          "metadata": {},
          "execution_count": 55
        }
      ]
    },
    {
      "cell_type": "code",
      "source": [
        "books_series.name"
      ],
      "metadata": {
        "id": "qBu0q3YnXLGo"
      },
      "execution_count": 56,
      "outputs": []
    },
    {
      "cell_type": "code",
      "source": [
        "books_series.name == None"
      ],
      "metadata": {
        "colab": {
          "base_uri": "https://localhost:8080/"
        },
        "id": "2aYLEBcmXRmu",
        "outputId": "891d0e81-3065-43e3-a714-487a7034afa6"
      },
      "execution_count": 57,
      "outputs": [
        {
          "output_type": "execute_result",
          "data": {
            "text/plain": [
              "True"
            ]
          },
          "metadata": {},
          "execution_count": 57
        }
      ]
    },
    {
      "cell_type": "code",
      "source": [
        "books_series"
      ],
      "metadata": {
        "colab": {
          "base_uri": "https://localhost:8080/"
        },
        "id": "IYFKMUzhXVJ2",
        "outputId": "10541597-aa40-4a1e-a04b-58a5802f7ff7"
      },
      "execution_count": 58,
      "outputs": [
        {
          "output_type": "execute_result",
          "data": {
            "text/plain": [
              "0                      The Escape Artist\n",
              "1                The Spy and the Traitor\n",
              "2    The Sceptic's Guide to the Universe\n",
              "dtype: object"
            ]
          },
          "metadata": {},
          "execution_count": 58
        }
      ]
    },
    {
      "cell_type": "code",
      "source": [
        "books_series.name = 'Recent Reads'"
      ],
      "metadata": {
        "id": "k99w3psgXdG4"
      },
      "execution_count": 59,
      "outputs": []
    },
    {
      "cell_type": "code",
      "source": [
        "books_series"
      ],
      "metadata": {
        "colab": {
          "base_uri": "https://localhost:8080/"
        },
        "id": "Ds7ZqjLSXiAF",
        "outputId": "0e321e95-9cef-4cb5-86ee-4476a3a0d0fd"
      },
      "execution_count": 60,
      "outputs": [
        {
          "output_type": "execute_result",
          "data": {
            "text/plain": [
              "0                      The Escape Artist\n",
              "1                The Spy and the Traitor\n",
              "2    The Sceptic's Guide to the Universe\n",
              "Name: Recent Reads, dtype: object"
            ]
          },
          "metadata": {},
          "execution_count": 60
        }
      ]
    },
    {
      "cell_type": "code",
      "source": [
        "# point of this name? when using dataframes, the name will become the column name"
      ],
      "metadata": {
        "id": "xdLKZL6WXkqC"
      },
      "execution_count": 61,
      "outputs": []
    },
    {
      "cell_type": "code",
      "source": [
        "books_series.index.name == None"
      ],
      "metadata": {
        "colab": {
          "base_uri": "https://localhost:8080/"
        },
        "id": "MIZTI5jLXwIz",
        "outputId": "e03f3a3b-a768-4fdb-9d43-2780e2088b72"
      },
      "execution_count": 62,
      "outputs": [
        {
          "output_type": "execute_result",
          "data": {
            "text/plain": [
              "True"
            ]
          },
          "metadata": {},
          "execution_count": 62
        }
      ]
    },
    {
      "cell_type": "code",
      "source": [
        "books_series.index.name = 'My Books'"
      ],
      "metadata": {
        "id": "_SPYchQNX7ar"
      },
      "execution_count": 63,
      "outputs": []
    },
    {
      "cell_type": "code",
      "source": [
        "books_series.index.name"
      ],
      "metadata": {
        "colab": {
          "base_uri": "https://localhost:8080/",
          "height": 35
        },
        "id": "XuD8HAefYAgW",
        "outputId": "fe6d4586-f24f-4ee8-9f2e-2ec58c95881c"
      },
      "execution_count": 64,
      "outputs": [
        {
          "output_type": "execute_result",
          "data": {
            "text/plain": [
              "'My Books'"
            ],
            "application/vnd.google.colaboratory.intrinsic+json": {
              "type": "string"
            }
          },
          "metadata": {},
          "execution_count": 64
        }
      ]
    },
    {
      "cell_type": "code",
      "source": [
        "books_series"
      ],
      "metadata": {
        "colab": {
          "base_uri": "https://localhost:8080/"
        },
        "id": "CecRXBtPYDC6",
        "outputId": "40523d9e-0938-47bc-c05f-04f87bef4d7f"
      },
      "execution_count": 65,
      "outputs": [
        {
          "output_type": "execute_result",
          "data": {
            "text/plain": [
              "My Books\n",
              "0                      The Escape Artist\n",
              "1                The Spy and the Traitor\n",
              "2    The Sceptic's Guide to the Universe\n",
              "Name: Recent Reads, dtype: object"
            ]
          },
          "metadata": {},
          "execution_count": 65
        }
      ]
    },
    {
      "cell_type": "markdown",
      "source": [
        "## Skill Challenge\n",
        "\n",
        "1. Create a python list of length 4 that contains some fav actors (strings), Call this list-assign it to a var called actor names\n",
        "\n",
        "2. Create another list, actor_ages with corresponding ages\n",
        "\n",
        "3. Create Series stores actors ages and labels them using actor names, name='actors'\n",
        "\n",
        "4. Create a Dictionary out of this (I did this manually at first) and then dynamically (did second)"
      ],
      "metadata": {
        "id": "iCxed9smYKRp"
      }
    },
    {
      "cell_type": "code",
      "source": [
        "actor_names = ['Gary Oldman', 'Arnold Schwarzenegger', 'Al Paccino', 'Robert De Niro', 'Philip Seymour Hoffman']"
      ],
      "metadata": {
        "id": "Gp7G7jp2YEpU"
      },
      "execution_count": 66,
      "outputs": []
    },
    {
      "cell_type": "code",
      "source": [
        "pd.Series(actor_names)"
      ],
      "metadata": {
        "colab": {
          "base_uri": "https://localhost:8080/"
        },
        "id": "8kbEYrHjZg69",
        "outputId": "34fcb239-6b89-4cb7-a03d-5a2e98133473"
      },
      "execution_count": 67,
      "outputs": [
        {
          "output_type": "execute_result",
          "data": {
            "text/plain": [
              "0               Gary Oldman\n",
              "1     Arnold Schwarzenegger\n",
              "2                Al Paccino\n",
              "3            Robert De Niro\n",
              "4    Philip Seymour Hoffman\n",
              "dtype: object"
            ]
          },
          "metadata": {},
          "execution_count": 67
        }
      ]
    },
    {
      "cell_type": "code",
      "source": [
        "actor_ages = [65, 76, 83, 80, 46]"
      ],
      "metadata": {
        "id": "prK54EFIZu7N"
      },
      "execution_count": 68,
      "outputs": []
    },
    {
      "cell_type": "code",
      "source": [
        "pd.Series(data=actor_ages, index=actor_names, name='actors')"
      ],
      "metadata": {
        "colab": {
          "base_uri": "https://localhost:8080/"
        },
        "id": "ISRpcr8Wa9jC",
        "outputId": "1fa79b50-c3c1-4246-8c1c-23caca5e042d"
      },
      "execution_count": 69,
      "outputs": [
        {
          "output_type": "execute_result",
          "data": {
            "text/plain": [
              "Gary Oldman               65\n",
              "Arnold Schwarzenegger     76\n",
              "Al Paccino                83\n",
              "Robert De Niro            80\n",
              "Philip Seymour Hoffman    46\n",
              "Name: actors, dtype: int64"
            ]
          },
          "metadata": {},
          "execution_count": 69
        }
      ]
    },
    {
      "cell_type": "code",
      "source": [
        "pd.Series(actor_ages, actor_names, name='actors')"
      ],
      "metadata": {
        "colab": {
          "base_uri": "https://localhost:8080/"
        },
        "id": "Y5Gp9YwIblxo",
        "outputId": "b5faee2c-acea-433e-f095-c9e149dd5c74"
      },
      "execution_count": 70,
      "outputs": [
        {
          "output_type": "execute_result",
          "data": {
            "text/plain": [
              "Gary Oldman               65\n",
              "Arnold Schwarzenegger     76\n",
              "Al Paccino                83\n",
              "Robert De Niro            80\n",
              "Philip Seymour Hoffman    46\n",
              "Name: actors, dtype: int64"
            ]
          },
          "metadata": {},
          "execution_count": 70
        }
      ]
    },
    {
      "cell_type": "code",
      "source": [
        "pd.Series({'Gary Oldman':65, 'Arnold Schwarzenegger':76 , 'Al Paccino':83 , 'Robert De Niro':80 , 'Philip Seymour Hoffman':46}, name='actors') # manually"
      ],
      "metadata": {
        "colab": {
          "base_uri": "https://localhost:8080/"
        },
        "id": "BKawi6CFcA4j",
        "outputId": "3c9a791c-a748-4d0d-c549-8db536c755b3"
      },
      "execution_count": 71,
      "outputs": [
        {
          "output_type": "execute_result",
          "data": {
            "text/plain": [
              "Gary Oldman               65\n",
              "Arnold Schwarzenegger     76\n",
              "Al Paccino                83\n",
              "Robert De Niro            80\n",
              "Philip Seymour Hoffman    46\n",
              "Name: actors, dtype: int64"
            ]
          },
          "metadata": {},
          "execution_count": 71
        }
      ]
    },
    {
      "cell_type": "code",
      "source": [
        "actors_dict = pd.Series(dict(map(lambda i,j : (i,j) , actor_names, actor_ages)), name='actors_dict') # dynamically using map"
      ],
      "metadata": {
        "id": "HIt9r9Accsrp"
      },
      "execution_count": 72,
      "outputs": []
    },
    {
      "cell_type": "code",
      "source": [
        "actors_dict"
      ],
      "metadata": {
        "colab": {
          "base_uri": "https://localhost:8080/"
        },
        "id": "aMR8GwQqeZGu",
        "outputId": "f401ecba-b74a-4c54-ab21-53184b6b0b0b"
      },
      "execution_count": 73,
      "outputs": [
        {
          "output_type": "execute_result",
          "data": {
            "text/plain": [
              "Gary Oldman               65\n",
              "Arnold Schwarzenegger     76\n",
              "Al Paccino                83\n",
              "Robert De Niro            80\n",
              "Philip Seymour Hoffman    46\n",
              "Name: actors_dict, dtype: int64"
            ]
          },
          "metadata": {},
          "execution_count": 73
        }
      ]
    },
    {
      "cell_type": "code",
      "source": [
        "list(zip(actor_names, actor_ages))"
      ],
      "metadata": {
        "colab": {
          "base_uri": "https://localhost:8080/"
        },
        "id": "mi3MuNY1ecFk",
        "outputId": "758b7860-a5b7-4e74-eb42-6254a088b479"
      },
      "execution_count": 74,
      "outputs": [
        {
          "output_type": "execute_result",
          "data": {
            "text/plain": [
              "[('Gary Oldman', 65),\n",
              " ('Arnold Schwarzenegger', 76),\n",
              " ('Al Paccino', 83),\n",
              " ('Robert De Niro', 80),\n",
              " ('Philip Seymour Hoffman', 46)]"
            ]
          },
          "metadata": {},
          "execution_count": 74
        }
      ]
    },
    {
      "cell_type": "code",
      "source": [
        "dict(zip(actor_names, actor_ages))"
      ],
      "metadata": {
        "colab": {
          "base_uri": "https://localhost:8080/"
        },
        "id": "erpPCGwUf0Cx",
        "outputId": "47660a37-703f-49e2-e40e-1db234bfaa13"
      },
      "execution_count": 75,
      "outputs": [
        {
          "output_type": "execute_result",
          "data": {
            "text/plain": [
              "{'Gary Oldman': 65,\n",
              " 'Arnold Schwarzenegger': 76,\n",
              " 'Al Paccino': 83,\n",
              " 'Robert De Niro': 80,\n",
              " 'Philip Seymour Hoffman': 46}"
            ]
          },
          "metadata": {},
          "execution_count": 75
        }
      ]
    },
    {
      "cell_type": "code",
      "source": [
        "pd.Series(dict(zip(actor_names, actor_ages)), name='actors')"
      ],
      "metadata": {
        "colab": {
          "base_uri": "https://localhost:8080/"
        },
        "id": "0ojYBHVJf5TG",
        "outputId": "be7afce4-c3b2-4409-d986-19f650cebf0d"
      },
      "execution_count": 76,
      "outputs": [
        {
          "output_type": "execute_result",
          "data": {
            "text/plain": [
              "Gary Oldman               65\n",
              "Arnold Schwarzenegger     76\n",
              "Al Paccino                83\n",
              "Robert De Niro            80\n",
              "Philip Seymour Hoffman    46\n",
              "Name: actors, dtype: int64"
            ]
          },
          "metadata": {},
          "execution_count": 76
        }
      ]
    },
    {
      "cell_type": "markdown",
      "source": [
        "### Another Solution to Step 4 Dict Comprehension"
      ],
      "metadata": {
        "id": "EcwqtswNgNbq"
      }
    },
    {
      "cell_type": "code",
      "source": [
        "pd.Series({name:age for name, age in zip(actor_names, actor_ages)}, name='actors') # dict comprehension"
      ],
      "metadata": {
        "colab": {
          "base_uri": "https://localhost:8080/"
        },
        "id": "5fGoz91kf-PK",
        "outputId": "7c9a8cb7-ff3f-40ad-b448-9167506a0060"
      },
      "execution_count": 77,
      "outputs": [
        {
          "output_type": "execute_result",
          "data": {
            "text/plain": [
              "Gary Oldman               65\n",
              "Arnold Schwarzenegger     76\n",
              "Al Paccino                83\n",
              "Robert De Niro            80\n",
              "Philip Seymour Hoffman    46\n",
              "Name: actors, dtype: int64"
            ]
          },
          "metadata": {},
          "execution_count": 77
        }
      ]
    },
    {
      "cell_type": "markdown",
      "source": [
        "### The head() and tail() Methods"
      ],
      "metadata": {
        "id": "qBLab2IKgfy7"
      }
    },
    {
      "cell_type": "code",
      "source": [
        "int_series = pd.Series([i for i in range(60)])"
      ],
      "metadata": {
        "id": "A_kflYGNgZVy"
      },
      "execution_count": 78,
      "outputs": []
    },
    {
      "cell_type": "code",
      "source": [
        "int_series"
      ],
      "metadata": {
        "colab": {
          "base_uri": "https://localhost:8080/"
        },
        "id": "XFji4tp3gyNJ",
        "outputId": "1e0bca72-8df8-4071-ac6a-50c61959ecd0"
      },
      "execution_count": 79,
      "outputs": [
        {
          "output_type": "execute_result",
          "data": {
            "text/plain": [
              "0      0\n",
              "1      1\n",
              "2      2\n",
              "3      3\n",
              "4      4\n",
              "5      5\n",
              "6      6\n",
              "7      7\n",
              "8      8\n",
              "9      9\n",
              "10    10\n",
              "11    11\n",
              "12    12\n",
              "13    13\n",
              "14    14\n",
              "15    15\n",
              "16    16\n",
              "17    17\n",
              "18    18\n",
              "19    19\n",
              "20    20\n",
              "21    21\n",
              "22    22\n",
              "23    23\n",
              "24    24\n",
              "25    25\n",
              "26    26\n",
              "27    27\n",
              "28    28\n",
              "29    29\n",
              "30    30\n",
              "31    31\n",
              "32    32\n",
              "33    33\n",
              "34    34\n",
              "35    35\n",
              "36    36\n",
              "37    37\n",
              "38    38\n",
              "39    39\n",
              "40    40\n",
              "41    41\n",
              "42    42\n",
              "43    43\n",
              "44    44\n",
              "45    45\n",
              "46    46\n",
              "47    47\n",
              "48    48\n",
              "49    49\n",
              "50    50\n",
              "51    51\n",
              "52    52\n",
              "53    53\n",
              "54    54\n",
              "55    55\n",
              "56    56\n",
              "57    57\n",
              "58    58\n",
              "59    59\n",
              "dtype: int64"
            ]
          },
          "metadata": {},
          "execution_count": 79
        }
      ]
    },
    {
      "cell_type": "code",
      "source": [
        "pd.Series(range(60))"
      ],
      "metadata": {
        "colab": {
          "base_uri": "https://localhost:8080/"
        },
        "id": "6HLBSiDjhCvI",
        "outputId": "dbe805c0-91e4-457b-9719-62aa79b8f85c"
      },
      "execution_count": 80,
      "outputs": [
        {
          "output_type": "execute_result",
          "data": {
            "text/plain": [
              "0      0\n",
              "1      1\n",
              "2      2\n",
              "3      3\n",
              "4      4\n",
              "5      5\n",
              "6      6\n",
              "7      7\n",
              "8      8\n",
              "9      9\n",
              "10    10\n",
              "11    11\n",
              "12    12\n",
              "13    13\n",
              "14    14\n",
              "15    15\n",
              "16    16\n",
              "17    17\n",
              "18    18\n",
              "19    19\n",
              "20    20\n",
              "21    21\n",
              "22    22\n",
              "23    23\n",
              "24    24\n",
              "25    25\n",
              "26    26\n",
              "27    27\n",
              "28    28\n",
              "29    29\n",
              "30    30\n",
              "31    31\n",
              "32    32\n",
              "33    33\n",
              "34    34\n",
              "35    35\n",
              "36    36\n",
              "37    37\n",
              "38    38\n",
              "39    39\n",
              "40    40\n",
              "41    41\n",
              "42    42\n",
              "43    43\n",
              "44    44\n",
              "45    45\n",
              "46    46\n",
              "47    47\n",
              "48    48\n",
              "49    49\n",
              "50    50\n",
              "51    51\n",
              "52    52\n",
              "53    53\n",
              "54    54\n",
              "55    55\n",
              "56    56\n",
              "57    57\n",
              "58    58\n",
              "59    59\n",
              "dtype: int64"
            ]
          },
          "metadata": {},
          "execution_count": 80
        }
      ]
    },
    {
      "cell_type": "code",
      "source": [
        "int_series.size"
      ],
      "metadata": {
        "colab": {
          "base_uri": "https://localhost:8080/"
        },
        "id": "1lVDOn0MhN9e",
        "outputId": "0f0e268e-d5c1-4c3b-97a3-7fc75f4736f8"
      },
      "execution_count": 81,
      "outputs": [
        {
          "output_type": "execute_result",
          "data": {
            "text/plain": [
              "60"
            ]
          },
          "metadata": {},
          "execution_count": 81
        }
      ]
    },
    {
      "cell_type": "code",
      "source": [
        "len(int_series)"
      ],
      "metadata": {
        "colab": {
          "base_uri": "https://localhost:8080/"
        },
        "id": "Qwk3ok4VhRT-",
        "outputId": "2da43445-2fbc-43ea-fef3-594658feb795"
      },
      "execution_count": 82,
      "outputs": [
        {
          "output_type": "execute_result",
          "data": {
            "text/plain": [
              "60"
            ]
          },
          "metadata": {},
          "execution_count": 82
        }
      ]
    },
    {
      "cell_type": "code",
      "source": [
        "int_series.head(n=7)"
      ],
      "metadata": {
        "colab": {
          "base_uri": "https://localhost:8080/"
        },
        "id": "xVRyCCRrhXHP",
        "outputId": "d8f13ef0-85ab-46dc-fa9b-827583e8f48e"
      },
      "execution_count": 83,
      "outputs": [
        {
          "output_type": "execute_result",
          "data": {
            "text/plain": [
              "0    0\n",
              "1    1\n",
              "2    2\n",
              "3    3\n",
              "4    4\n",
              "5    5\n",
              "6    6\n",
              "dtype: int64"
            ]
          },
          "metadata": {},
          "execution_count": 83
        }
      ]
    },
    {
      "cell_type": "code",
      "source": [
        "int_series.tail(n=10)"
      ],
      "metadata": {
        "colab": {
          "base_uri": "https://localhost:8080/"
        },
        "id": "Hjv7a0iyhiln",
        "outputId": "9b14fa53-f0df-45be-bad7-a9c76fc9238b"
      },
      "execution_count": 84,
      "outputs": [
        {
          "output_type": "execute_result",
          "data": {
            "text/plain": [
              "50    50\n",
              "51    51\n",
              "52    52\n",
              "53    53\n",
              "54    54\n",
              "55    55\n",
              "56    56\n",
              "57    57\n",
              "58    58\n",
              "59    59\n",
              "dtype: int64"
            ]
          },
          "metadata": {},
          "execution_count": 84
        }
      ]
    },
    {
      "cell_type": "code",
      "source": [
        "pd.Series(range(100))"
      ],
      "metadata": {
        "colab": {
          "base_uri": "https://localhost:8080/"
        },
        "id": "Fsno6rM4hnYN",
        "outputId": "e2e99cea-3a4b-4de7-f7f7-4dba1f30c32d"
      },
      "execution_count": 85,
      "outputs": [
        {
          "output_type": "execute_result",
          "data": {
            "text/plain": [
              "0      0\n",
              "1      1\n",
              "2      2\n",
              "3      3\n",
              "4      4\n",
              "      ..\n",
              "95    95\n",
              "96    96\n",
              "97    97\n",
              "98    98\n",
              "99    99\n",
              "Length: 100, dtype: int64"
            ]
          },
          "metadata": {},
          "execution_count": 85
        }
      ]
    },
    {
      "cell_type": "code",
      "source": [
        "pd.options.display.min_rows = 20"
      ],
      "metadata": {
        "id": "dlgyxAoLh-rW"
      },
      "execution_count": 86,
      "outputs": []
    },
    {
      "cell_type": "markdown",
      "source": [
        "### Extracting By Index Position"
      ],
      "metadata": {
        "id": "sU7yeFkHiTKL"
      }
    },
    {
      "cell_type": "code",
      "source": [
        "from string import ascii_lowercase"
      ],
      "metadata": {
        "id": "DHUlkAvkiJWj"
      },
      "execution_count": 87,
      "outputs": []
    },
    {
      "cell_type": "code",
      "source": [
        "ascii_lowercase"
      ],
      "metadata": {
        "colab": {
          "base_uri": "https://localhost:8080/",
          "height": 35
        },
        "id": "n1ZSPiRWiebe",
        "outputId": "e237de14-77ee-415c-9b7c-57d5df3143af"
      },
      "execution_count": 88,
      "outputs": [
        {
          "output_type": "execute_result",
          "data": {
            "text/plain": [
              "'abcdefghijklmnopqrstuvwxyz'"
            ],
            "application/vnd.google.colaboratory.intrinsic+json": {
              "type": "string"
            }
          },
          "metadata": {},
          "execution_count": 88
        }
      ]
    },
    {
      "cell_type": "code",
      "source": [
        "pd.Series(ascii_lowercase)"
      ],
      "metadata": {
        "colab": {
          "base_uri": "https://localhost:8080/"
        },
        "id": "K3JTFdjeiglF",
        "outputId": "eaa70381-ea66-42e0-f060-a68a57dbd03b"
      },
      "execution_count": 89,
      "outputs": [
        {
          "output_type": "execute_result",
          "data": {
            "text/plain": [
              "0    abcdefghijklmnopqrstuvwxyz\n",
              "dtype: object"
            ]
          },
          "metadata": {},
          "execution_count": 89
        }
      ]
    },
    {
      "cell_type": "code",
      "source": [
        "len(list(ascii_lowercase))"
      ],
      "metadata": {
        "colab": {
          "base_uri": "https://localhost:8080/"
        },
        "id": "csvyvOWIilK9",
        "outputId": "61fefe98-a589-4447-ecfa-f28dab7442a0"
      },
      "execution_count": 90,
      "outputs": [
        {
          "output_type": "execute_result",
          "data": {
            "text/plain": [
              "26"
            ]
          },
          "metadata": {},
          "execution_count": 90
        }
      ]
    },
    {
      "cell_type": "code",
      "source": [
        "letters = list(ascii_lowercase)"
      ],
      "metadata": {
        "id": "uW6DWoKzipV5"
      },
      "execution_count": 91,
      "outputs": []
    },
    {
      "cell_type": "code",
      "source": [
        "alphabet = pd.Series(letters)"
      ],
      "metadata": {
        "id": "qe-EOrGziwR_"
      },
      "execution_count": 92,
      "outputs": []
    },
    {
      "cell_type": "code",
      "source": [
        "alphabet.head(6)"
      ],
      "metadata": {
        "colab": {
          "base_uri": "https://localhost:8080/"
        },
        "id": "5Tq9nrgKi3C_",
        "outputId": "824dc34c-3cd4-4c31-9de5-009dd26e8d3c"
      },
      "execution_count": 93,
      "outputs": [
        {
          "output_type": "execute_result",
          "data": {
            "text/plain": [
              "0    a\n",
              "1    b\n",
              "2    c\n",
              "3    d\n",
              "4    e\n",
              "5    f\n",
              "dtype: object"
            ]
          },
          "metadata": {},
          "execution_count": 93
        }
      ]
    },
    {
      "cell_type": "markdown",
      "source": [
        "This is returning another series, not the correct way of accessing series elements"
      ],
      "metadata": {
        "id": "DEhwMsaOjIwA"
      }
    },
    {
      "cell_type": "code",
      "source": [
        "# square bracket notation\n",
        "alphabet[1]"
      ],
      "metadata": {
        "colab": {
          "base_uri": "https://localhost:8080/",
          "height": 35
        },
        "id": "imjYAmQVjBO5",
        "outputId": "46893f92-134b-4b1b-c9e2-1bb4eecd6772"
      },
      "execution_count": 94,
      "outputs": [
        {
          "output_type": "execute_result",
          "data": {
            "text/plain": [
              "'b'"
            ],
            "application/vnd.google.colaboratory.intrinsic+json": {
              "type": "string"
            }
          },
          "metadata": {},
          "execution_count": 94
        }
      ]
    },
    {
      "cell_type": "code",
      "source": [
        "alphabet[0]"
      ],
      "metadata": {
        "colab": {
          "base_uri": "https://localhost:8080/",
          "height": 35
        },
        "id": "PphzmX0Ejqt7",
        "outputId": "3be0f099-96da-4c8e-b1a5-784b0b8f9e93"
      },
      "execution_count": 95,
      "outputs": [
        {
          "output_type": "execute_result",
          "data": {
            "text/plain": [
              "'a'"
            ],
            "application/vnd.google.colaboratory.intrinsic+json": {
              "type": "string"
            }
          },
          "metadata": {},
          "execution_count": 95
        }
      ]
    },
    {
      "cell_type": "code",
      "source": [
        "# What is the first letter? (done above)\n",
        "# What is the 11th letter?\n",
        "# What are the first 3 letters?\n",
        "# What are the sixth through tenth letters?\n",
        "# What are the last six letters?"
      ],
      "metadata": {
        "id": "c4uaZhTtjltq"
      },
      "execution_count": 96,
      "outputs": []
    },
    {
      "cell_type": "code",
      "source": [
        "# 2\n",
        "alphabet[10]"
      ],
      "metadata": {
        "colab": {
          "base_uri": "https://localhost:8080/",
          "height": 35
        },
        "id": "G9dI2WDbkF0Z",
        "outputId": "f4fe0bee-a50c-4163-d225-3e837cc6e877"
      },
      "execution_count": 97,
      "outputs": [
        {
          "output_type": "execute_result",
          "data": {
            "text/plain": [
              "'k'"
            ],
            "application/vnd.google.colaboratory.intrinsic+json": {
              "type": "string"
            }
          },
          "metadata": {},
          "execution_count": 97
        }
      ]
    },
    {
      "cell_type": "code",
      "source": [
        "# 3\n",
        "alphabet[0:3] # 0, 1, 2 excluding 3"
      ],
      "metadata": {
        "colab": {
          "base_uri": "https://localhost:8080/"
        },
        "id": "kkkMnLD6kN22",
        "outputId": "713c1c9a-8772-4c67-c2f7-8689789af14b"
      },
      "execution_count": 98,
      "outputs": [
        {
          "output_type": "execute_result",
          "data": {
            "text/plain": [
              "0    a\n",
              "1    b\n",
              "2    c\n",
              "dtype: object"
            ]
          },
          "metadata": {},
          "execution_count": 98
        }
      ]
    },
    {
      "cell_type": "code",
      "source": [
        "# 4\n",
        "\n",
        "alphabet[5:10]"
      ],
      "metadata": {
        "colab": {
          "base_uri": "https://localhost:8080/"
        },
        "id": "RO2EVpFfkTjs",
        "outputId": "826c4564-d230-4653-8f91-74af2b181e10"
      },
      "execution_count": 99,
      "outputs": [
        {
          "output_type": "execute_result",
          "data": {
            "text/plain": [
              "5    f\n",
              "6    g\n",
              "7    h\n",
              "8    i\n",
              "9    j\n",
              "dtype: object"
            ]
          },
          "metadata": {},
          "execution_count": 99
        }
      ]
    },
    {
      "cell_type": "code",
      "source": [
        "alphabet[-6:] # go to end, back 6 and then to the end"
      ],
      "metadata": {
        "colab": {
          "base_uri": "https://localhost:8080/"
        },
        "id": "yYkATfGWkecc",
        "outputId": "b5f28cc7-efae-4d81-e7a0-a438319f638e"
      },
      "execution_count": 100,
      "outputs": [
        {
          "output_type": "execute_result",
          "data": {
            "text/plain": [
              "20    u\n",
              "21    v\n",
              "22    w\n",
              "23    x\n",
              "24    y\n",
              "25    z\n",
              "dtype: object"
            ]
          },
          "metadata": {},
          "execution_count": 100
        }
      ]
    },
    {
      "cell_type": "markdown",
      "source": [
        "### Access Elements By Label"
      ],
      "metadata": {
        "id": "ny3QowWsk216"
      }
    },
    {
      "cell_type": "code",
      "source": [
        "from string import ascii_uppercase"
      ],
      "metadata": {
        "id": "amzhscTYknms"
      },
      "execution_count": 101,
      "outputs": []
    },
    {
      "cell_type": "code",
      "source": [
        "labled_alphabet = pd.Series(data=list(ascii_lowercase), index=map(lambda x: 'label_' + x, (ascii_uppercase)))"
      ],
      "metadata": {
        "id": "SBwwKmMXlDu1"
      },
      "execution_count": 102,
      "outputs": []
    },
    {
      "cell_type": "code",
      "source": [
        "labled_alphabet.head(3)"
      ],
      "metadata": {
        "colab": {
          "base_uri": "https://localhost:8080/"
        },
        "id": "paDf-4S9lkeA",
        "outputId": "41d3d5cb-4908-485c-80b9-d84195e828d7"
      },
      "execution_count": 103,
      "outputs": [
        {
          "output_type": "execute_result",
          "data": {
            "text/plain": [
              "label_A    a\n",
              "label_B    b\n",
              "label_C    c\n",
              "dtype: object"
            ]
          },
          "metadata": {},
          "execution_count": 103
        }
      ]
    },
    {
      "cell_type": "code",
      "source": [
        "# What is the first letter? (done above)\n",
        "# What is the 11th letter?\n",
        "# What are the first 3 letters?\n",
        "# What are the sixth through tenth letters?\n",
        "# What are the last six letters?"
      ],
      "metadata": {
        "id": "zGARLNfDlpmk"
      },
      "execution_count": 104,
      "outputs": []
    },
    {
      "cell_type": "code",
      "source": [
        "labled_alphabet[0]"
      ],
      "metadata": {
        "colab": {
          "base_uri": "https://localhost:8080/",
          "height": 35
        },
        "id": "RFSb1WxgmPZ8",
        "outputId": "1695298a-5639-4452-dd78-a10ebda4a7ae"
      },
      "execution_count": 105,
      "outputs": [
        {
          "output_type": "execute_result",
          "data": {
            "text/plain": [
              "'a'"
            ],
            "application/vnd.google.colaboratory.intrinsic+json": {
              "type": "string"
            }
          },
          "metadata": {},
          "execution_count": 105
        }
      ]
    },
    {
      "cell_type": "code",
      "source": [
        "labled_alphabet['label_A']"
      ],
      "metadata": {
        "colab": {
          "base_uri": "https://localhost:8080/",
          "height": 35
        },
        "id": "gapCtK9ymFSa",
        "outputId": "eac4fe52-5a40-4d8e-f4cc-552fcc198179"
      },
      "execution_count": 106,
      "outputs": [
        {
          "output_type": "execute_result",
          "data": {
            "text/plain": [
              "'a'"
            ],
            "application/vnd.google.colaboratory.intrinsic+json": {
              "type": "string"
            }
          },
          "metadata": {},
          "execution_count": 106
        }
      ]
    },
    {
      "cell_type": "code",
      "source": [
        "labled_alphabet[10]"
      ],
      "metadata": {
        "colab": {
          "base_uri": "https://localhost:8080/",
          "height": 35
        },
        "id": "BFtbVxkMmNIQ",
        "outputId": "fc0f764b-fd0e-45d0-b20d-290e2004455a"
      },
      "execution_count": 107,
      "outputs": [
        {
          "output_type": "execute_result",
          "data": {
            "text/plain": [
              "'k'"
            ],
            "application/vnd.google.colaboratory.intrinsic+json": {
              "type": "string"
            }
          },
          "metadata": {},
          "execution_count": 107
        }
      ]
    },
    {
      "cell_type": "code",
      "source": [
        "labled_alphabet['label_K']"
      ],
      "metadata": {
        "colab": {
          "base_uri": "https://localhost:8080/",
          "height": 35
        },
        "id": "_kYW8QKnmWsY",
        "outputId": "dc887f44-c61b-49a3-8952-31d150577edf"
      },
      "execution_count": 108,
      "outputs": [
        {
          "output_type": "execute_result",
          "data": {
            "text/plain": [
              "'k'"
            ],
            "application/vnd.google.colaboratory.intrinsic+json": {
              "type": "string"
            }
          },
          "metadata": {},
          "execution_count": 108
        }
      ]
    },
    {
      "cell_type": "code",
      "source": [
        "labled_alphabet[:3]"
      ],
      "metadata": {
        "colab": {
          "base_uri": "https://localhost:8080/"
        },
        "id": "w912_LITmYW4",
        "outputId": "69c2cbb0-1757-4607-ba02-291e4be1b46b"
      },
      "execution_count": 109,
      "outputs": [
        {
          "output_type": "execute_result",
          "data": {
            "text/plain": [
              "label_A    a\n",
              "label_B    b\n",
              "label_C    c\n",
              "dtype: object"
            ]
          },
          "metadata": {},
          "execution_count": 109
        }
      ]
    },
    {
      "cell_type": "code",
      "source": [
        "labled_alphabet[:'label_C'] # label c is included in label based indexing, vs. position based indexing"
      ],
      "metadata": {
        "colab": {
          "base_uri": "https://localhost:8080/"
        },
        "id": "QjpYMM4hmbX3",
        "outputId": "860a4587-4440-40ff-d8a5-d9c68b474e96"
      },
      "execution_count": 110,
      "outputs": [
        {
          "output_type": "execute_result",
          "data": {
            "text/plain": [
              "label_A    a\n",
              "label_B    b\n",
              "label_C    c\n",
              "dtype: object"
            ]
          },
          "metadata": {},
          "execution_count": 110
        }
      ]
    },
    {
      "cell_type": "code",
      "source": [
        "labled_alphabet[5:10]"
      ],
      "metadata": {
        "colab": {
          "base_uri": "https://localhost:8080/"
        },
        "id": "To8-CXjQmfQX",
        "outputId": "bf49925c-93fc-40eb-acfb-9eba7da9c1c9"
      },
      "execution_count": 111,
      "outputs": [
        {
          "output_type": "execute_result",
          "data": {
            "text/plain": [
              "label_F    f\n",
              "label_G    g\n",
              "label_H    h\n",
              "label_I    i\n",
              "label_J    j\n",
              "dtype: object"
            ]
          },
          "metadata": {},
          "execution_count": 111
        }
      ]
    },
    {
      "cell_type": "code",
      "source": [
        "labled_alphabet['label_F':'label_J']"
      ],
      "metadata": {
        "colab": {
          "base_uri": "https://localhost:8080/"
        },
        "id": "TzXd4BNNm1ba",
        "outputId": "9d3ef2d8-aa3b-4eb3-a22a-a54318bbc33d"
      },
      "execution_count": 112,
      "outputs": [
        {
          "output_type": "execute_result",
          "data": {
            "text/plain": [
              "label_F    f\n",
              "label_G    g\n",
              "label_H    h\n",
              "label_I    i\n",
              "label_J    j\n",
              "dtype: object"
            ]
          },
          "metadata": {},
          "execution_count": 112
        }
      ]
    },
    {
      "cell_type": "code",
      "source": [
        "labled_alphabet[-6:]"
      ],
      "metadata": {
        "colab": {
          "base_uri": "https://localhost:8080/"
        },
        "id": "JL407l9vm6Nr",
        "outputId": "627aa1dc-4d74-442c-81e1-3659c386aee6"
      },
      "execution_count": 113,
      "outputs": [
        {
          "output_type": "execute_result",
          "data": {
            "text/plain": [
              "label_U    u\n",
              "label_V    v\n",
              "label_W    w\n",
              "label_X    x\n",
              "label_Y    y\n",
              "label_Z    z\n",
              "dtype: object"
            ]
          },
          "metadata": {},
          "execution_count": 113
        }
      ]
    },
    {
      "cell_type": "code",
      "source": [
        "labled_alphabet[:-6]"
      ],
      "metadata": {
        "colab": {
          "base_uri": "https://localhost:8080/"
        },
        "id": "pLEgVKHOnDJo",
        "outputId": "a17a50d7-5a05-4331-f512-5afea6e745ef"
      },
      "execution_count": 114,
      "outputs": [
        {
          "output_type": "execute_result",
          "data": {
            "text/plain": [
              "label_A    a\n",
              "label_B    b\n",
              "label_C    c\n",
              "label_D    d\n",
              "label_E    e\n",
              "label_F    f\n",
              "label_G    g\n",
              "label_H    h\n",
              "label_I    i\n",
              "label_J    j\n",
              "label_K    k\n",
              "label_L    l\n",
              "label_M    m\n",
              "label_N    n\n",
              "label_O    o\n",
              "label_P    p\n",
              "label_Q    q\n",
              "label_R    r\n",
              "label_S    s\n",
              "label_T    t\n",
              "dtype: object"
            ]
          },
          "metadata": {},
          "execution_count": 114
        }
      ]
    },
    {
      "cell_type": "code",
      "source": [
        "labled_alphabet['label_U':]"
      ],
      "metadata": {
        "colab": {
          "base_uri": "https://localhost:8080/"
        },
        "id": "HW1imfbSnHbO",
        "outputId": "fee01b43-3468-432c-e47c-84cd6a1f12b3"
      },
      "execution_count": 115,
      "outputs": [
        {
          "output_type": "execute_result",
          "data": {
            "text/plain": [
              "label_U    u\n",
              "label_V    v\n",
              "label_W    w\n",
              "label_X    x\n",
              "label_Y    y\n",
              "label_Z    z\n",
              "dtype: object"
            ]
          },
          "metadata": {},
          "execution_count": 115
        }
      ]
    },
    {
      "cell_type": "code",
      "source": [
        "labled_alphabet = pd.Series(data=list(ascii_lowercase), index=map(lambda x: 'label_' + x, (ascii_uppercase)))"
      ],
      "metadata": {
        "id": "-3Eq_vI9_-zc"
      },
      "execution_count": 116,
      "outputs": []
    },
    {
      "cell_type": "code",
      "source": [
        "alphabet.head()"
      ],
      "metadata": {
        "colab": {
          "base_uri": "https://localhost:8080/"
        },
        "id": "4oSXMRBjANgk",
        "outputId": "1897a20f-47e6-4fdd-e722-863f6306c932"
      },
      "execution_count": 117,
      "outputs": [
        {
          "output_type": "execute_result",
          "data": {
            "text/plain": [
              "0    a\n",
              "1    b\n",
              "2    c\n",
              "3    d\n",
              "4    e\n",
              "dtype: object"
            ]
          },
          "metadata": {},
          "execution_count": 117
        }
      ]
    },
    {
      "cell_type": "markdown",
      "source": [
        "Ad different, more efficient way to acchieve the results from the above code"
      ],
      "metadata": {
        "id": "2Rys3jcCAdaB"
      }
    },
    {
      "cell_type": "code",
      "source": [
        " alphabet.add_prefix('label_')"
      ],
      "metadata": {
        "colab": {
          "base_uri": "https://localhost:8080/"
        },
        "id": "3cR2KXeDAQTR",
        "outputId": "e8a73421-f23b-4f49-d8c8-2a79f3f53831"
      },
      "execution_count": 118,
      "outputs": [
        {
          "output_type": "execute_result",
          "data": {
            "text/plain": [
              "label_0     a\n",
              "label_1     b\n",
              "label_2     c\n",
              "label_3     d\n",
              "label_4     e\n",
              "label_5     f\n",
              "label_6     g\n",
              "label_7     h\n",
              "label_8     i\n",
              "label_9     j\n",
              "label_10    k\n",
              "label_11    l\n",
              "label_12    m\n",
              "label_13    n\n",
              "label_14    o\n",
              "label_15    p\n",
              "label_16    q\n",
              "label_17    r\n",
              "label_18    s\n",
              "label_19    t\n",
              "label_20    u\n",
              "label_21    v\n",
              "label_22    w\n",
              "label_23    x\n",
              "label_24    y\n",
              "label_25    z\n",
              "dtype: object"
            ]
          },
          "metadata": {},
          "execution_count": 118
        }
      ]
    },
    {
      "cell_type": "code",
      "source": [
        "alphabet = alphabet.add_suffix('_some_cool_ending')"
      ],
      "metadata": {
        "id": "MhiF6k54AZOv"
      },
      "execution_count": 119,
      "outputs": []
    },
    {
      "cell_type": "markdown",
      "source": [
        "### Using Dot Notation"
      ],
      "metadata": {
        "id": "nSM708F5BKa7"
      }
    },
    {
      "cell_type": "code",
      "source": [
        "labled_alphabet['label_V']"
      ],
      "metadata": {
        "colab": {
          "base_uri": "https://localhost:8080/",
          "height": 35
        },
        "id": "6G0_xHlYAxrL",
        "outputId": "05d8a629-77d0-471b-9ff9-7e79ddadf844"
      },
      "execution_count": 120,
      "outputs": [
        {
          "output_type": "execute_result",
          "data": {
            "text/plain": [
              "'v'"
            ],
            "application/vnd.google.colaboratory.intrinsic+json": {
              "type": "string"
            }
          },
          "metadata": {},
          "execution_count": 120
        }
      ]
    },
    {
      "cell_type": "code",
      "source": [
        "labeled_alphabet = labled_alphabet"
      ],
      "metadata": {
        "id": "yroRC2ozBZmJ"
      },
      "execution_count": 121,
      "outputs": []
    },
    {
      "cell_type": "code",
      "source": [
        "labeled_alphabet.label_V"
      ],
      "metadata": {
        "colab": {
          "base_uri": "https://localhost:8080/",
          "height": 35
        },
        "id": "akNRFfn9BnKr",
        "outputId": "97ea34af-a5aa-48a5-daa4-87c549697091"
      },
      "execution_count": 122,
      "outputs": [
        {
          "output_type": "execute_result",
          "data": {
            "text/plain": [
              "'v'"
            ],
            "application/vnd.google.colaboratory.intrinsic+json": {
              "type": "string"
            }
          },
          "metadata": {},
          "execution_count": 122
        }
      ]
    },
    {
      "cell_type": "markdown",
      "source": [
        "### Boolean Masks and the .Ioc Indexer"
      ],
      "metadata": {
        "id": "TDF6Z3n7CLdV"
      }
    },
    {
      "cell_type": "code",
      "source": [
        "# loc\n",
        "labeled_alphabet.loc['label_F':'label_J']"
      ],
      "metadata": {
        "colab": {
          "base_uri": "https://localhost:8080/"
        },
        "id": "7cCGGM2KB393",
        "outputId": "13712cd0-3d16-4f20-e733-9bb977b56e1c"
      },
      "execution_count": 123,
      "outputs": [
        {
          "output_type": "execute_result",
          "data": {
            "text/plain": [
              "label_F    f\n",
              "label_G    g\n",
              "label_H    h\n",
              "label_I    i\n",
              "label_J    j\n",
              "dtype: object"
            ]
          },
          "metadata": {},
          "execution_count": 123
        }
      ]
    },
    {
      "cell_type": "code",
      "source": [],
      "metadata": {
        "id": "oE9FDbrjCgW3"
      },
      "execution_count": 123,
      "outputs": []
    },
    {
      "cell_type": "markdown",
      "source": [
        "Why 2 different ways to do the same function loc() protypical to way to do label based abstraction (supports Boolean Mass) vs ['':'']"
      ],
      "metadata": {
        "id": "bAL_Ca0-Ck1v"
      }
    },
    {
      "cell_type": "code",
      "source": [
        "# boolean\n",
        "books_series"
      ],
      "metadata": {
        "colab": {
          "base_uri": "https://localhost:8080/"
        },
        "id": "XFTiyyuZC8Xx",
        "outputId": "a019e759-f1db-40f6-f5d1-b74d5ae51f82"
      },
      "execution_count": 124,
      "outputs": [
        {
          "output_type": "execute_result",
          "data": {
            "text/plain": [
              "My Books\n",
              "0                      The Escape Artist\n",
              "1                The Spy and the Traitor\n",
              "2    The Sceptic's Guide to the Universe\n",
              "Name: Recent Reads, dtype: object"
            ]
          },
          "metadata": {},
          "execution_count": 124
        }
      ]
    },
    {
      "cell_type": "code",
      "source": [
        "books_series.loc[[True, True, True]]"
      ],
      "metadata": {
        "colab": {
          "base_uri": "https://localhost:8080/"
        },
        "id": "3WJSPnwrDBT6",
        "outputId": "594768f0-5c48-43ab-f33c-fabd9393aaa0"
      },
      "execution_count": 125,
      "outputs": [
        {
          "output_type": "execute_result",
          "data": {
            "text/plain": [
              "My Books\n",
              "0                      The Escape Artist\n",
              "1                The Spy and the Traitor\n",
              "2    The Sceptic's Guide to the Universe\n",
              "Name: Recent Reads, dtype: object"
            ]
          },
          "metadata": {},
          "execution_count": 125
        }
      ]
    },
    {
      "cell_type": "code",
      "source": [
        "books_series.loc[[True, False, True]]"
      ],
      "metadata": {
        "colab": {
          "base_uri": "https://localhost:8080/"
        },
        "id": "TFpSJp47DTAh",
        "outputId": "b46ab8f9-d5cc-4da3-8a37-0ce6a65db89e"
      },
      "execution_count": 126,
      "outputs": [
        {
          "output_type": "execute_result",
          "data": {
            "text/plain": [
              "My Books\n",
              "0                      The Escape Artist\n",
              "2    The Sceptic's Guide to the Universe\n",
              "Name: Recent Reads, dtype: object"
            ]
          },
          "metadata": {},
          "execution_count": 126
        }
      ]
    },
    {
      "cell_type": "code",
      "source": [
        "# books_series.loc[[True, False]] index error"
      ],
      "metadata": {
        "id": "Z-yoXyLoDZlm"
      },
      "execution_count": 127,
      "outputs": []
    },
    {
      "cell_type": "code",
      "source": [
        "labeled_alphabet.size"
      ],
      "metadata": {
        "colab": {
          "base_uri": "https://localhost:8080/"
        },
        "id": "7nXkjtvzDksP",
        "outputId": "497c36a4-eb9f-4f83-d322-a5862d64292e"
      },
      "execution_count": 128,
      "outputs": [
        {
          "output_type": "execute_result",
          "data": {
            "text/plain": [
              "26"
            ]
          },
          "metadata": {},
          "execution_count": 128
        }
      ]
    },
    {
      "cell_type": "code",
      "source": [
        "labeled_alphabet.loc[[True for i in range(26)]]"
      ],
      "metadata": {
        "colab": {
          "base_uri": "https://localhost:8080/"
        },
        "id": "9xLqA9DmDvf9",
        "outputId": "aa1f01b8-8d0d-4f4b-b514-8ca4ab6aebd1"
      },
      "execution_count": 129,
      "outputs": [
        {
          "output_type": "execute_result",
          "data": {
            "text/plain": [
              "label_A    a\n",
              "label_B    b\n",
              "label_C    c\n",
              "label_D    d\n",
              "label_E    e\n",
              "label_F    f\n",
              "label_G    g\n",
              "label_H    h\n",
              "label_I    i\n",
              "label_J    j\n",
              "label_K    k\n",
              "label_L    l\n",
              "label_M    m\n",
              "label_N    n\n",
              "label_O    o\n",
              "label_P    p\n",
              "label_Q    q\n",
              "label_R    r\n",
              "label_S    s\n",
              "label_T    t\n",
              "label_U    u\n",
              "label_V    v\n",
              "label_W    w\n",
              "label_X    x\n",
              "label_Y    y\n",
              "label_Z    z\n",
              "dtype: object"
            ]
          },
          "metadata": {},
          "execution_count": 129
        }
      ]
    },
    {
      "cell_type": "code",
      "source": [
        "labeled_alphabet.loc[[True if i%2==0 else False for i in range(26)]]"
      ],
      "metadata": {
        "colab": {
          "base_uri": "https://localhost:8080/"
        },
        "id": "g256DMNID4eD",
        "outputId": "1d661350-962e-4257-d290-34d07fcabe04"
      },
      "execution_count": 130,
      "outputs": [
        {
          "output_type": "execute_result",
          "data": {
            "text/plain": [
              "label_A    a\n",
              "label_C    c\n",
              "label_E    e\n",
              "label_G    g\n",
              "label_I    i\n",
              "label_K    k\n",
              "label_M    m\n",
              "label_O    o\n",
              "label_Q    q\n",
              "label_S    s\n",
              "label_U    u\n",
              "label_W    w\n",
              "label_Y    y\n",
              "dtype: object"
            ]
          },
          "metadata": {},
          "execution_count": 130
        }
      ]
    },
    {
      "cell_type": "markdown",
      "source": [
        "### Extracting By Position With .iloc\n",
        "1. loc => integer loc => indexing by position\n",
        "1. loc => location => indexing by label"
      ],
      "metadata": {
        "id": "yxTRYVXn0Xfp"
      }
    },
    {
      "cell_type": "code",
      "source": [
        "labeled_alphabet.iloc[0]"
      ],
      "metadata": {
        "colab": {
          "base_uri": "https://localhost:8080/",
          "height": 35
        },
        "id": "mqmHFGExEMTz",
        "outputId": "e56ccf0c-8568-4871-e8a6-ed0992013798"
      },
      "execution_count": 131,
      "outputs": [
        {
          "output_type": "execute_result",
          "data": {
            "text/plain": [
              "'a'"
            ],
            "application/vnd.google.colaboratory.intrinsic+json": {
              "type": "string"
            }
          },
          "metadata": {},
          "execution_count": 131
        }
      ]
    },
    {
      "cell_type": "code",
      "source": [
        "labeled_alphabet.iloc[1:3]"
      ],
      "metadata": {
        "colab": {
          "base_uri": "https://localhost:8080/"
        },
        "id": "uU1AmdTm1PR-",
        "outputId": "612f96f6-0e2f-4f6e-c05b-4747a4782ab1"
      },
      "execution_count": 132,
      "outputs": [
        {
          "output_type": "execute_result",
          "data": {
            "text/plain": [
              "label_B    b\n",
              "label_C    c\n",
              "dtype: object"
            ]
          },
          "metadata": {},
          "execution_count": 132
        }
      ]
    },
    {
      "cell_type": "code",
      "source": [
        "labeled_alphabet[1:3] # functionality the same / akin: similia to"
      ],
      "metadata": {
        "colab": {
          "base_uri": "https://localhost:8080/"
        },
        "id": "gZxgNm2_1gwh",
        "outputId": "24022488-244f-4e1f-d035-8a2b6d323be9"
      },
      "execution_count": 137,
      "outputs": [
        {
          "output_type": "execute_result",
          "data": {
            "text/plain": [
              "label_B    b\n",
              "label_C    c\n",
              "dtype: object"
            ]
          },
          "metadata": {},
          "execution_count": 137
        }
      ]
    },
    {
      "cell_type": "code",
      "source": [
        "labeled_alphabet.iloc[[1,4,9]]"
      ],
      "metadata": {
        "colab": {
          "base_uri": "https://localhost:8080/"
        },
        "id": "zBpSZx2Y1UMz",
        "outputId": "5301505a-bd9f-4a6e-83e7-0b7352a7465a"
      },
      "execution_count": 134,
      "outputs": [
        {
          "output_type": "execute_result",
          "data": {
            "text/plain": [
              "label_B    b\n",
              "label_E    e\n",
              "label_J    j\n",
              "dtype: object"
            ]
          },
          "metadata": {},
          "execution_count": 134
        }
      ]
    },
    {
      "cell_type": "code",
      "source": [],
      "metadata": {
        "id": "24fAhczc13OQ"
      },
      "execution_count": null,
      "outputs": []
    },
    {
      "cell_type": "markdown",
      "source": [
        "# Bonus - Using Callables With .loc and iloc"
      ],
      "metadata": {
        "id": "1oGqyC5i2PBw"
      }
    },
    {
      "cell_type": "code",
      "source": [
        "# will take a series and an input(single-arguement function), and produce an indexing output (list of labels, list of booleans, a slice, etc)\n",
        "labeled_alphabet.loc['label_V']"
      ],
      "metadata": {
        "colab": {
          "base_uri": "https://localhost:8080/",
          "height": 35
        },
        "id": "qF1tdNt62bMk",
        "outputId": "86eaf468-e919-40bd-e777-8a9705b13b72"
      },
      "execution_count": 144,
      "outputs": [
        {
          "output_type": "execute_result",
          "data": {
            "text/plain": [
              "'v'"
            ],
            "application/vnd.google.colaboratory.intrinsic+json": {
              "type": "string"
            }
          },
          "metadata": {},
          "execution_count": 144
        }
      ]
    },
    {
      "cell_type": "code",
      "source": [
        "labeled_alphabet.loc[lambda x: 'label_V']"
      ],
      "metadata": {
        "colab": {
          "base_uri": "https://localhost:8080/",
          "height": 35
        },
        "id": "Xn8dz54D21aB",
        "outputId": "b6b420e3-9bf3-4dd7-d500-3e7d7b5a74a3"
      },
      "execution_count": 145,
      "outputs": [
        {
          "output_type": "execute_result",
          "data": {
            "text/plain": [
              "'v'"
            ],
            "application/vnd.google.colaboratory.intrinsic+json": {
              "type": "string"
            }
          },
          "metadata": {},
          "execution_count": 145
        }
      ]
    },
    {
      "cell_type": "code",
      "source": [
        "labeled_alphabet.loc[lambda x: ['label_V', 'label_A']]"
      ],
      "metadata": {
        "colab": {
          "base_uri": "https://localhost:8080/"
        },
        "id": "S6f29Yv73SGA",
        "outputId": "ad2a2202-562e-45c6-b618-246b88572b31"
      },
      "execution_count": 147,
      "outputs": [
        {
          "output_type": "execute_result",
          "data": {
            "text/plain": [
              "label_V    v\n",
              "label_A    a\n",
              "dtype: object"
            ]
          },
          "metadata": {},
          "execution_count": 147
        }
      ]
    },
    {
      "cell_type": "code",
      "source": [
        "# labeled_alphabet.loc[lambda x: [True, True]] fails, Boolean index has wrong length: 2 instead of 26"
      ],
      "metadata": {
        "id": "FhZ_WBP34JT5"
      },
      "execution_count": 149,
      "outputs": []
    },
    {
      "cell_type": "code",
      "source": [
        "labeled_alphabet.loc[lambda x: [True for i in range(x.size)]] # produces a True for all the instances in the series, lambda returns list (as many True values as the series itself)"
      ],
      "metadata": {
        "colab": {
          "base_uri": "https://localhost:8080/"
        },
        "id": "39HMUCF-5F3l",
        "outputId": "483f950e-f5e6-4151-e46c-4d58dd5bf6d4"
      },
      "execution_count": 151,
      "outputs": [
        {
          "output_type": "execute_result",
          "data": {
            "text/plain": [
              "label_A    a\n",
              "label_B    b\n",
              "label_C    c\n",
              "label_D    d\n",
              "label_E    e\n",
              "label_F    f\n",
              "label_G    g\n",
              "label_H    h\n",
              "label_I    i\n",
              "label_J    j\n",
              "label_K    k\n",
              "label_L    l\n",
              "label_M    m\n",
              "label_N    n\n",
              "label_O    o\n",
              "label_P    p\n",
              "label_Q    q\n",
              "label_R    r\n",
              "label_S    s\n",
              "label_T    t\n",
              "label_U    u\n",
              "label_V    v\n",
              "label_W    w\n",
              "label_X    x\n",
              "label_Y    y\n",
              "label_Z    z\n",
              "dtype: object"
            ]
          },
          "metadata": {},
          "execution_count": 151
        }
      ]
    },
    {
      "cell_type": "code",
      "source": [
        "def every_fifth(x):\n",
        "  return [True if (i+1)%5==0 else False  for i in range(x.size)]"
      ],
      "metadata": {
        "id": "oGG5Yg565ev1"
      },
      "execution_count": 155,
      "outputs": []
    },
    {
      "cell_type": "code",
      "source": [
        "labeled_alphabet.iloc[every_fifth] # every_fifth calls the series \"labeled_alphabet\" passed in arg or x"
      ],
      "metadata": {
        "colab": {
          "base_uri": "https://localhost:8080/"
        },
        "id": "qOun9HZ66WUW",
        "outputId": "f391612a-01a1-44ca-cf74-36c51015c307"
      },
      "execution_count": 156,
      "outputs": [
        {
          "output_type": "execute_result",
          "data": {
            "text/plain": [
              "label_E    e\n",
              "label_J    j\n",
              "label_O    o\n",
              "label_T    t\n",
              "label_Y    y\n",
              "dtype: object"
            ]
          },
          "metadata": {},
          "execution_count": 156
        }
      ]
    },
    {
      "cell_type": "markdown",
      "source": [
        "### Selecting with .get()"
      ],
      "metadata": {
        "id": "7-cqiMcy68Md"
      }
    },
    {
      "cell_type": "code",
      "source": [
        "labeled_alphabet.get('label_I') # why use get (convienences)"
      ],
      "metadata": {
        "colab": {
          "base_uri": "https://localhost:8080/",
          "height": 35
        },
        "id": "LLvwWolJ6bHY",
        "outputId": "36e6718a-152d-4823-abff-b474821cc30b"
      },
      "execution_count": 157,
      "outputs": [
        {
          "output_type": "execute_result",
          "data": {
            "text/plain": [
              "'i'"
            ],
            "application/vnd.google.colaboratory.intrinsic+json": {
              "type": "string"
            }
          },
          "metadata": {},
          "execution_count": 157
        }
      ]
    },
    {
      "cell_type": "code",
      "source": [
        "labeled_alphabet.loc['label_I']"
      ],
      "metadata": {
        "colab": {
          "base_uri": "https://localhost:8080/",
          "height": 35
        },
        "id": "2k-8sRcl7FT_",
        "outputId": "1966c9a7-089a-4f1b-946a-9f1169c6eb74"
      },
      "execution_count": 158,
      "outputs": [
        {
          "output_type": "execute_result",
          "data": {
            "text/plain": [
              "'i'"
            ],
            "application/vnd.google.colaboratory.intrinsic+json": {
              "type": "string"
            }
          },
          "metadata": {},
          "execution_count": 158
        }
      ]
    },
    {
      "cell_type": "code",
      "source": [
        "labeled_alphabet['label_I']"
      ],
      "metadata": {
        "colab": {
          "base_uri": "https://localhost:8080/",
          "height": 35
        },
        "id": "U724jPgF7Ivh",
        "outputId": "357f1c94-3b73-4f0b-b4a3-384e55d0feb2"
      },
      "execution_count": 160,
      "outputs": [
        {
          "output_type": "execute_result",
          "data": {
            "text/plain": [
              "'i'"
            ],
            "application/vnd.google.colaboratory.intrinsic+json": {
              "type": "string"
            }
          },
          "metadata": {},
          "execution_count": 160
        }
      ]
    },
    {
      "cell_type": "code",
      "source": [
        "labeled_alphabet.get('label_Inexistent') # returning object 'none'"
      ],
      "metadata": {
        "id": "WgXLtByg7LJL"
      },
      "execution_count": 161,
      "outputs": []
    },
    {
      "cell_type": "code",
      "source": [
        "labeled_alphabet.get('label_Inexistent', default=None)"
      ],
      "metadata": {
        "id": "50pQwAeI7hK1"
      },
      "execution_count": 164,
      "outputs": []
    },
    {
      "cell_type": "code",
      "source": [
        "labeled_alphabet.get('label_Inexistent', default='Counld not find anything by that label, sorry')"
      ],
      "metadata": {
        "colab": {
          "base_uri": "https://localhost:8080/",
          "height": 35
        },
        "id": "R-s4ngyv7uCv",
        "outputId": "6d7a6cea-d88d-45d1-a292-14f420d07f04"
      },
      "execution_count": 166,
      "outputs": [
        {
          "output_type": "execute_result",
          "data": {
            "text/plain": [
              "'Counld not find anything by that label, sorry'"
            ],
            "application/vnd.google.colaboratory.intrinsic+json": {
              "type": "string"
            }
          },
          "metadata": {},
          "execution_count": 166
        }
      ]
    },
    {
      "cell_type": "code",
      "source": [
        "labeled_alphabet.get('label_Inexistent', default=19)"
      ],
      "metadata": {
        "colab": {
          "base_uri": "https://localhost:8080/"
        },
        "id": "JNThORaD8BSi",
        "outputId": "9f50a529-9ac5-4362-8d61-c6e2bd076557"
      },
      "execution_count": 167,
      "outputs": [
        {
          "output_type": "execute_result",
          "data": {
            "text/plain": [
              "19"
            ]
          },
          "metadata": {},
          "execution_count": 167
        }
      ]
    },
    {
      "cell_type": "code",
      "source": [
        "labeled_alphabet.get('label_Inexistent', default={19:'20'}) # get() gracefully responds/ continues,  when it does not find a label"
      ],
      "metadata": {
        "colab": {
          "base_uri": "https://localhost:8080/"
        },
        "id": "UakpeZV48KHP",
        "outputId": "350a25bb-9b4b-4bf7-a0f9-fa1c3906e5b9"
      },
      "execution_count": 168,
      "outputs": [
        {
          "output_type": "execute_result",
          "data": {
            "text/plain": [
              "{19: '20'}"
            ]
          },
          "metadata": {},
          "execution_count": 168
        }
      ]
    },
    {
      "cell_type": "code",
      "source": [
        " # labeled_alphabet['label_Inexistent'] fails, errors out"
      ],
      "metadata": {
        "id": "DWE3l6Ve8Q2M"
      },
      "execution_count": 169,
      "outputs": []
    },
    {
      "cell_type": "code",
      "source": [
        "labeled_alphabet.get(8) # mixed capabilities, Chimera: mixed creature."
      ],
      "metadata": {
        "colab": {
          "base_uri": "https://localhost:8080/",
          "height": 35
        },
        "id": "cpWW5QGk8t77",
        "outputId": "b28ea6a3-cdfc-496c-8a14-001b997049a7"
      },
      "execution_count": 170,
      "outputs": [
        {
          "output_type": "execute_result",
          "data": {
            "text/plain": [
              "'i'"
            ],
            "application/vnd.google.colaboratory.intrinsic+json": {
              "type": "string"
            }
          },
          "metadata": {},
          "execution_count": 170
        }
      ]
    },
    {
      "cell_type": "code",
      "source": [
        "labeled_alphabet.iloc[8]"
      ],
      "metadata": {
        "colab": {
          "base_uri": "https://localhost:8080/",
          "height": 35
        },
        "id": "9yM9tJLb87TL",
        "outputId": "237f9b6a-54b3-447c-dc2c-ac80f46c53c2"
      },
      "execution_count": 172,
      "outputs": [
        {
          "output_type": "execute_result",
          "data": {
            "text/plain": [
              "'i'"
            ],
            "application/vnd.google.colaboratory.intrinsic+json": {
              "type": "string"
            }
          },
          "metadata": {},
          "execution_count": 172
        }
      ]
    },
    {
      "cell_type": "code",
      "source": [
        "labeled_alphabet[8]"
      ],
      "metadata": {
        "colab": {
          "base_uri": "https://localhost:8080/",
          "height": 35
        },
        "id": "M5UQlxgH89Ij",
        "outputId": "1998a668-85d5-47a8-f842-c29a2a9489be"
      },
      "execution_count": 173,
      "outputs": [
        {
          "output_type": "execute_result",
          "data": {
            "text/plain": [
              "'i'"
            ],
            "application/vnd.google.colaboratory.intrinsic+json": {
              "type": "string"
            }
          },
          "metadata": {},
          "execution_count": 173
        }
      ]
    },
    {
      "cell_type": "markdown",
      "source": [
        "### Section Recap"
      ],
      "metadata": {
        "id": "oehfEF5b9Yeg"
      }
    },
    {
      "cell_type": "code",
      "source": [
        "# Selection by Label\n",
        "# [] = idx'ing series['label'] - slices, callables, boolean masks\n",
        "# .loc[] = series.loc['label'] - slices, callables, boolean masks\n",
        "# dot access = series.lable - no slice or boolean mask support\n",
        "# .get() = series.get('label') - no slice support, provides default, forgiving"
      ],
      "metadata": {
        "id": "eEUY4Ele9CU5"
      },
      "execution_count": 176,
      "outputs": []
    },
    {
      "cell_type": "code",
      "source": [
        "# Selection by Position\n",
        "# [] = idx'ing series[0] - slices, callables, boolean masks\n",
        "# .loc[] = series.loc['0] - slices, callables, boolean masks\n",
        "# dot access /NOPE NA, for Selection by Position\n",
        "# .get() = series.get(0) - no slice support, provides default, forgiving"
      ],
      "metadata": {
        "id": "fb9K-qtM-OB8"
      },
      "execution_count": 175,
      "outputs": []
    },
    {
      "cell_type": "markdown",
      "source": [
        "### Skill Challenge\n",
        "1. Create a Series of length containing the squares of integers from 0 to 99. Assign it to the variable squares."
      ],
      "metadata": {
        "id": "yHzl1QvSA4qg"
      }
    },
    {
      "cell_type": "code",
      "source": [
        "squares = pd.Series(data=[i**2 for i in range(100)])"
      ],
      "metadata": {
        "id": "E5716TyIA4QC"
      },
      "execution_count": 205,
      "outputs": []
    },
    {
      "cell_type": "code",
      "source": [
        "squares"
      ],
      "metadata": {
        "colab": {
          "base_uri": "https://localhost:8080/"
        },
        "id": "HI8tbdNFCXXJ",
        "outputId": "ed422a9e-1a8e-450d-ac10-0b09282b1f11"
      },
      "execution_count": 208,
      "outputs": [
        {
          "output_type": "execute_result",
          "data": {
            "text/plain": [
              "0        0\n",
              "1        1\n",
              "2        4\n",
              "3        9\n",
              "4       16\n",
              "5       25\n",
              "6       36\n",
              "7       49\n",
              "8       64\n",
              "9       81\n",
              "      ... \n",
              "90    8100\n",
              "91    8281\n",
              "92    8464\n",
              "93    8649\n",
              "94    8836\n",
              "95    9025\n",
              "96    9216\n",
              "97    9409\n",
              "98    9604\n",
              "99    9801\n",
              "Length: 100, dtype: int64"
            ]
          },
          "metadata": {},
          "execution_count": 208
        }
      ]
    },
    {
      "cell_type": "code",
      "source": [
        "# 2. Extract the Last three items from the squares series using the square bracket indexing.\n",
        "squares[-3:]"
      ],
      "metadata": {
        "colab": {
          "base_uri": "https://localhost:8080/"
        },
        "id": "Tu9NZlRNDj6d",
        "outputId": "b34a448a-db35-4299-d36e-70aac9843df3"
      },
      "execution_count": 195,
      "outputs": [
        {
          "output_type": "execute_result",
          "data": {
            "text/plain": [
              "97    9409\n",
              "98    9604\n",
              "99    9801\n",
              "dtype: int64"
            ]
          },
          "metadata": {},
          "execution_count": 195
        }
      ]
    },
    {
      "cell_type": "code",
      "source": [
        "# 2. Extract the Last three items from the squares series using the .tail() method.\n",
        "squares.tail(n=3)"
      ],
      "metadata": {
        "colab": {
          "base_uri": "https://localhost:8080/"
        },
        "id": "olIdCCRzFRrq",
        "outputId": "077cd2e2-808c-4920-c865-5e93f34c8d20"
      },
      "execution_count": 196,
      "outputs": [
        {
          "output_type": "execute_result",
          "data": {
            "text/plain": [
              "97    9409\n",
              "98    9604\n",
              "99    9801\n",
              "dtype: int64"
            ]
          },
          "metadata": {},
          "execution_count": 196
        }
      ]
    },
    {
      "cell_type": "code",
      "source": [
        "squares_indexing = squares[-3:]"
      ],
      "metadata": {
        "id": "ML7oFq6aFjUx"
      },
      "execution_count": 197,
      "outputs": []
    },
    {
      "cell_type": "code",
      "source": [
        "squares_tail = squares.tail(n=3)"
      ],
      "metadata": {
        "id": "OjbYvhpAGj-W"
      },
      "execution_count": 198,
      "outputs": []
    },
    {
      "cell_type": "code",
      "source": [
        "# 4. verify that the output from 2. and 3. are equal using the .equals() method.\n",
        "squares_indexing.equals(squares_tail)"
      ],
      "metadata": {
        "colab": {
          "base_uri": "https://localhost:8080/"
        },
        "id": "Tf_K_eVsGo0o",
        "outputId": "b1298567-30ab-495b-cf4b-0aabf6ccb5d8"
      },
      "execution_count": 200,
      "outputs": [
        {
          "output_type": "execute_result",
          "data": {
            "text/plain": [
              "True"
            ]
          },
          "metadata": {},
          "execution_count": 200
        }
      ]
    },
    {
      "cell_type": "code",
      "source": [
        "squares[-3:].equals(squares.tail(3)) # instead of assiging each methods results to a var"
      ],
      "metadata": {
        "colab": {
          "base_uri": "https://localhost:8080/"
        },
        "id": "AQutS4g6GvFJ",
        "outputId": "927adfe5-f797-4914-d3f0-1d4614ee7941"
      },
      "execution_count": 211,
      "outputs": [
        {
          "output_type": "execute_result",
          "data": {
            "text/plain": [
              "True"
            ]
          },
          "metadata": {},
          "execution_count": 211
        }
      ]
    },
    {
      "cell_type": "code",
      "source": [],
      "metadata": {
        "id": "eh6KaDWYIn25"
      },
      "execution_count": null,
      "outputs": []
    }
  ]
}